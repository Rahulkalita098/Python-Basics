{
 "cells": [
  {
   "cell_type": "code",
   "execution_count": 5,
   "id": "d548b304-43a4-4863-9527-4427eb6643b8",
   "metadata": {},
   "outputs": [
    {
     "data": {
      "text/plain": [
       "'\\nAnswer: Python is a intepreted and compiled language, best for Object Oriented Programing. It is one of the most popular language as\\n- Syntex: Syntex of the python is very easy to write or understand. Compare to Java or c++, python syntex is very easy to write and debug any error.\\n- Scalable: Using Python language we can build some very scalable softwares. IT has various framework and libraries like Django, flask, pandas, matplotlib etc. \\n'"
      ]
     },
     "execution_count": 5,
     "metadata": {},
     "output_type": "execute_result"
    }
   ],
   "source": [
    "#1. What is Python, and why is it popular? \n",
    "'''\n",
    "Answer: Python is a intepreted and compiled language, best for Object Oriented Programing. It is one of the most popular language as\n",
    "- Syntex: Syntex of the python is very easy to write or understand. Compare to Java or c++, python syntex is very easy to write and debug any error.\n",
    "- Scalable: Using Python language we can build some very scalable softwares. IT has various framework and libraries like Django, flask, pandas, matplotlib etc. \n",
    "- Cross-platform compatibility: Python follows Cross platform compatibility so when we write code in one device and we can run in any devices.\n",
    "- Data Science: Python is used for emerging field of Data Science and do calculation, statistics, scientific methods, processing, scientific visualization .\n",
    "'''"
   ]
  },
  {
   "cell_type": "code",
   "execution_count": 6,
   "id": "28877ef4-eaaf-4535-b90c-564e148dee02",
   "metadata": {},
   "outputs": [],
   "source": [
    "#2. What is an interpreter in Python?\n",
    "'''\n",
    "Answer: The Python interpreter is the program that reads and executes Python code. It serves as both a translator and a runtime environment, converting Python code (a high-level language) into machine code that your computer can execute.\n",
    "The Python interpreter includes both the core execution engine and the Python Virtual Machine (VM), which provides a layer of abstraction between your code and the computer’s hardware. The reference implementation of the Python interpreter is CPython, written in the C programming language.\n",
    "'''"
   ]
  },
  {
   "cell_type": "code",
   "execution_count": 10,
   "id": "105d2172-0355-46da-86b0-4fe7a76cb388",
   "metadata": {},
   "outputs": [
    {
     "data": {
      "text/plain": [
       "\"\\n['False', 'None', 'True', 'and', 'as', 'assert', 'async', 'await', 'break', 'class', 'continue', 'def', 'del', 'elif', 'else', 'except', 'finally', 'for', 'from', 'global', 'if', 'import', 'in', 'is', 'lambda', 'nonlocal', 'not', 'or', 'pass', 'raise', 'return', 'try', 'while', 'with', 'yield']\\n\""
      ]
     },
     "execution_count": 10,
     "metadata": {},
     "output_type": "execute_result"
    }
   ],
   "source": [
    "#3. What are pre-defined keywords in Python ?\n",
    "'''\n",
    "['False', 'None', 'True', 'and', 'as', 'assert', 'async', 'await', 'break', 'class', 'continue', 'def', 'del', 'elif', 'else', 'except', 'finally', 'for', 'from', 'global', 'if', 'import', 'in', 'is', 'lambda', 'nonlocal', 'not', 'or', 'pass', 'raise', 'return', 'try', 'while', 'with', 'yield']\n",
    "'''"
   ]
  },
  {
   "cell_type": "code",
   "execution_count": 11,
   "id": "579ceccd-df21-44c5-92b6-abd833bfc74e",
   "metadata": {},
   "outputs": [
    {
     "data": {
      "text/plain": [
       "'\\nAnswer: No, Keyword can not be used as variable names.\\n'"
      ]
     },
     "execution_count": 11,
     "metadata": {},
     "output_type": "execute_result"
    }
   ],
   "source": [
    "#4. Can keywords be used as variable names ?\n",
    "'''\n",
    "Answer: No, Keyword can not be used as variable names.\n",
    "'''"
   ]
  },
  {
   "cell_type": "code",
   "execution_count": 12,
   "id": "41364e46-46e3-4515-b84d-f0edc72465d9",
   "metadata": {},
   "outputs": [
    {
     "data": {
      "text/plain": [
       "'\\nAnswer: Mutable is when something is changeable or has the ability to change. In Python, ‘mutable’ is the ability of objects to change their values. Example of some mutable data structure are: Dictionary, List, Tuple etc.  \\n'"
      ]
     },
     "execution_count": 12,
     "metadata": {},
     "output_type": "execute_result"
    }
   ],
   "source": [
    "#5.  What is mutability in Python ?\n",
    "'''\n",
    "Answer: Mutable is when something is changeable or has the ability to change. In Python, ‘mutable’ is the ability of objects to change their values. Example of some mutable data structure are: lists, dictionaries, and sets.  \n",
    "'''"
   ]
  },
  {
   "cell_type": "code",
   "execution_count": 13,
   "id": "d09558d2-79a3-4bec-ac0d-46eb95e2ab31",
   "metadata": {},
   "outputs": [
    {
     "data": {
      "text/plain": [
       "'\\nAnswer: Tuples use parentheses instead of square brackets, and the items in tuples cannot be modified (but the items in lists can be modified). \\n'"
      ]
     },
     "execution_count": 13,
     "metadata": {},
     "output_type": "execute_result"
    }
   ],
   "source": [
    "#6. Why are lists mutable, but tuples are immutable ?\n",
    "'''\n",
    "Answer: Tuples use parentheses instead of square brackets, and the items in tuples cannot be modified (but the items in lists can be modified). \n",
    "'''"
   ]
  },
  {
   "cell_type": "code",
   "execution_count": 14,
   "id": "0af570cd-2ada-448d-ad93-a41886332415",
   "metadata": {},
   "outputs": [
    {
     "data": {
      "text/plain": [
       "'\\nAnswer: The \"==\" is used to check if value of the variable is equal or not but \"is\" is used for Two variables point to the same object in memory.\\n'"
      ]
     },
     "execution_count": 14,
     "metadata": {},
     "output_type": "execute_result"
    }
   ],
   "source": [
    "#7. What is the difference between “==” and “is” operators in Python?\n",
    "'''\n",
    "Answer: The \"==\" is used to check if value of the variable is equal or not but \"is\" is used for Two variables point to the same object in memory.\n",
    "'''"
   ]
  },
  {
   "cell_type": "code",
   "execution_count": 15,
   "id": "3af67239-cce3-4940-8036-1206d05c0ac6",
   "metadata": {},
   "outputs": [
    {
     "data": {
      "text/plain": [
       "'\\nAnswer: Logical Operators are used for evaluate multiple conditions, those are : and, or and not \\n'"
      ]
     },
     "execution_count": 15,
     "metadata": {},
     "output_type": "execute_result"
    }
   ],
   "source": [
    "#8. What are logical operators in Python?\n",
    "'''\n",
    "Answer: Logical Operators are used for evaluate multiple conditions, those are : and, or and not \n",
    "'''"
   ]
  },
  {
   "cell_type": "code",
   "execution_count": 18,
   "id": "5c6ab35b-791a-4f0d-b040-c966fe355ac5",
   "metadata": {},
   "outputs": [
    {
     "data": {
      "text/plain": [
       "\"\\nAnswer: Typecasting is used to change the data types of the different variable. example: a=int('123') it will change the variable to integer from string.\\n\""
      ]
     },
     "execution_count": 18,
     "metadata": {},
     "output_type": "execute_result"
    }
   ],
   "source": [
    "#9.  What is type casting in Python?\n",
    "'''\n",
    "Answer: Typecasting is used to change the data types of the different variable. example: a=int('123') it will change the variable to integer from string.\n",
    "'''"
   ]
  },
  {
   "cell_type": "code",
   "execution_count": 19,
   "id": "690483f7-b382-4312-b348-da266ab66624",
   "metadata": {},
   "outputs": [
    {
     "data": {
      "text/plain": [
       "\"\\nAnswer: Implicit type casting (or coercion) is a automatic conversion of a data type that occurs without the programmer's intervention, typically by the compiler or interpreter. Explicit type casting (or conversion) is when the programmer manually instructs the code to change a data type using a cast operator.\\n\""
      ]
     },
     "execution_count": 19,
     "metadata": {},
     "output_type": "execute_result"
    }
   ],
   "source": [
    "#10: What is the difference between implicit and explicit type casting?\n",
    "'''\n",
    "Answer: Implicit type casting (or coercion) is a automatic conversion of a data type that occurs without the programmer's intervention, typically by the compiler or interpreter. Explicit type casting (or conversion) is when the programmer manually instructs the code to change a data type using a cast operator.\n",
    "'''"
   ]
  },
  {
   "cell_type": "code",
   "execution_count": 20,
   "id": "4a681df6-d3fe-4998-9c7a-6bc665cd3ed5",
   "metadata": {},
   "outputs": [
    {
     "data": {
      "text/plain": [
       "'\\nAnswer: Python is to control the flow of a program by executing specific blocks of code only when a given condition evaluates to true or false.\\n'"
      ]
     },
     "execution_count": 20,
     "metadata": {},
     "output_type": "execute_result"
    }
   ],
   "source": [
    "#11. What is the purpose of conditional statements in Python?\n",
    "'''\n",
    "Answer: Python is to control the flow of a program by executing specific blocks of code only when a given condition evaluates to true or false.\n",
    "'''"
   ]
  },
  {
   "cell_type": "code",
   "execution_count": 21,
   "id": "a1f1a9db-c0bc-475b-a035-47c8c912bba5",
   "metadata": {},
   "outputs": [
    {
     "data": {
      "text/plain": [
       "\"\\nAnswer: In conditionals when 'if' condition code does not executed than elif part got executed.\\n\""
      ]
     },
     "execution_count": 21,
     "metadata": {},
     "output_type": "execute_result"
    }
   ],
   "source": [
    "#12. How does the elif statement work?\n",
    "'''\n",
    "Answer: In conditionals when 'if' condition code does not executed than elif part got executed.\n",
    "'''"
   ]
  },
  {
   "cell_type": "code",
   "execution_count": 22,
   "id": "5119761b-60b4-4e79-b3e7-d6091b200b29",
   "metadata": {},
   "outputs": [
    {
     "data": {
      "text/plain": [
       "\"\\nAnswer: In python, for loops are best used when you know the number of iterations ahead of time, whereas a while loop is best used when you don't know the number of iterations in advance. \\n\""
      ]
     },
     "execution_count": 22,
     "metadata": {},
     "output_type": "execute_result"
    }
   ],
   "source": [
    "#13. What is the difference between for and while loops?\n",
    "'''\n",
    "Answer: In python, for loops are best used when you know the number of iterations ahead of time, whereas a while loop is best used when you don't know the number of iterations in advance. \n",
    "'''"
   ]
  },
  {
   "cell_type": "code",
   "execution_count": 23,
   "id": "c92c1c4a-7e97-4ad5-be1e-08cda2dcc826",
   "metadata": {},
   "outputs": [
    {
     "data": {
      "text/plain": [
       "\"\\nAnswer: When We don't have much parameter for looping than we use while loop means when we don't know how many times we intend to loop than we can use the while loop.\\n\""
      ]
     },
     "execution_count": 23,
     "metadata": {},
     "output_type": "execute_result"
    }
   ],
   "source": [
    "#14. Describe a scenario where a while loop is more suitable than a for loop?\n",
    "'''\n",
    "Answer: When We don't have much parameter for looping than we use while loop means when we don't know how many times we intend to loop than we can use the while loop.\n",
    "'''"
   ]
  },
  {
   "cell_type": "code",
   "execution_count": null,
   "id": "f88a41a9-90b7-428d-bffd-47abdf3b6938",
   "metadata": {},
   "outputs": [],
   "source": []
  },
  {
   "cell_type": "code",
   "execution_count": null,
   "id": "18c358e5-516c-4aca-b3ab-fa4aa4a205f7",
   "metadata": {},
   "outputs": [],
   "source": []
  },
  {
   "cell_type": "code",
   "execution_count": null,
   "id": "638581f8-0c5a-413a-b396-ebc9f943dcc4",
   "metadata": {},
   "outputs": [],
   "source": [
    "#Practical Questions and Answers"
   ]
  },
  {
   "cell_type": "code",
   "execution_count": null,
   "id": "8d9ccbfe-1bb8-4672-bc0f-d052f5cc5cba",
   "metadata": {},
   "outputs": [],
   "source": []
  },
  {
   "cell_type": "code",
   "execution_count": null,
   "id": "bc198a61-d6fc-41e9-9fa1-987b6d6bf209",
   "metadata": {},
   "outputs": [],
   "source": []
  },
  {
   "cell_type": "code",
   "execution_count": 24,
   "id": "d0b54989-597a-42fe-96d5-9eaba4681050",
   "metadata": {},
   "outputs": [
    {
     "name": "stdout",
     "output_type": "stream",
     "text": [
      "Hello, World!\n"
     ]
    }
   ],
   "source": [
    "#1. Write a Python program to print \"Hello, World!\"?\n",
    "\n",
    "print(\"Hello, World!\");"
   ]
  },
  {
   "cell_type": "code",
   "execution_count": 25,
   "id": "c41f76fb-4a12-4203-a269-1770a83c7eea",
   "metadata": {},
   "outputs": [
    {
     "name": "stdout",
     "output_type": "stream",
     "text": [
      "\n",
      "Name is: Rahul kalita.\n",
      "Age is: 24.\n",
      "\n"
     ]
    }
   ],
   "source": [
    "#2. Write a Python program that displays your name and age?\n",
    "name=\"Rahul kalita\";\n",
    "age=24;\n",
    "\n",
    "print(f'''\n",
    "Name is: {name}.\n",
    "Age is: {age}.\n",
    "''');"
   ]
  },
  {
   "cell_type": "code",
   "execution_count": 28,
   "id": "615cb8d7-afbb-4057-8151-185c300edb34",
   "metadata": {},
   "outputs": [
    {
     "name": "stdout",
     "output_type": "stream",
     "text": [
      "\n",
      "Keywords are\n",
      "['False', 'None', 'True', 'and', 'as', 'assert', 'async', 'await', 'break', 'class', 'continue', 'def', 'del', 'elif', 'else', 'except', 'finally', 'for', 'from', 'global', 'if', 'import', 'in', 'is', 'lambda', 'nonlocal', 'not', 'or', 'pass', 'raise', 'return', 'try', 'while', 'with', 'yield']\n",
      "\n"
     ]
    }
   ],
   "source": [
    "#3. Write code to print all the pre-defined keywords in Python using the keyword library?\n",
    "import keyword;\n",
    "\n",
    "print(f'''\n",
    "Keywords are\n",
    "{keyword.kwlist}\n",
    "''');"
   ]
  },
  {
   "cell_type": "code",
   "execution_count": 30,
   "id": "111c972b-e2c9-48f6-a2b0-19b88e196110",
   "metadata": {},
   "outputs": [
    {
     "name": "stdout",
     "output_type": "stream",
     "text": [
      "for is a python keyword\n"
     ]
    }
   ],
   "source": [
    "#4. Write a program that checks if a given word is a Python keyword?\n",
    "import keyword;\n",
    "\n",
    "word=\"for\";\n",
    "if keyword.iskeyword(word):\n",
    "    print(f\"{word} is a python keyword\");\n",
    "else:\n",
    "    print(f\"{word} is not a python keyword\");"
   ]
  },
  {
   "cell_type": "code",
   "execution_count": 31,
   "id": "228efcda-c3bd-4284-ac29-122369d8b646",
   "metadata": {},
   "outputs": [
    {
     "name": "stdout",
     "output_type": "stream",
     "text": [
      "Original list: [1, 2, 3, 4]\n",
      "Original tuple: (1, 2, 3, 4)\n",
      "List after changing element at index 1: [1, 10, 3, 4]\n",
      "Error when trying to change tuple: 'tuple' object does not support item assignment\n",
      "Tuple after attempting change: (1, 2, 3, 4)\n"
     ]
    }
   ],
   "source": [
    "#5. Create a list and tuple in Python, and demonstrate how attempting to change an element works differently for each.\n",
    "my_list = [1, 2, 3, 4];\n",
    "my_tuple = (1, 2, 3, 4);\n",
    "\n",
    "# Print original list and tuple\n",
    "print(\"Original list:\", my_list);\n",
    "print(\"Original tuple:\", my_tuple);\n",
    "\n",
    "# Attempt to change an element in the list\n",
    "my_list[1] = 10;\n",
    "print(\"List after changing element at index 1:\", my_list);\n",
    "\n",
    "# Attempt to change an element in the tuple\n",
    "try:\n",
    "    my_tuple[1] = 10;\n",
    "except TypeError as e:\n",
    "    print(\"Error when trying to change tuple:\", e);\n",
    "\n",
    "# Print tuple to show it remains unchanged\n",
    "print(\"Tuple after attempting change:\", my_tuple);"
   ]
  },
  {
   "cell_type": "code",
   "execution_count": 32,
   "id": "d00fc69f-b691-459f-97c1-7a3484a9b662",
   "metadata": {},
   "outputs": [
    {
     "name": "stdout",
     "output_type": "stream",
     "text": [
      "Before calling function:\n",
      "number: 10\n",
      "my_list: [1, 2, 3]\n",
      "Original immutable argument (integer): 10\n",
      "After attempting to modify immutable argument: 100\n",
      "Original mutable argument (list): [1, 2, 3]\n",
      "After modifying mutable argument: [1, 2, 3, 5]\n",
      "\n",
      "After calling function:\n",
      "number: 10\n",
      "my_list: [1, 2, 3, 5]\n"
     ]
    }
   ],
   "source": [
    "#6.  Write a function to demonstrate the behavior of mutable and immutable arguments?\n",
    "def modify_arguments(immutable_arg, mutable_arg):\n",
    "    # Try to modify the immutable argument (integer)\n",
    "    print(f\"Original immutable argument (integer): {immutable_arg}\")\n",
    "    immutable_arg = 100\n",
    "    print(f\"After attempting to modify immutable argument: {immutable_arg}\")\n",
    "\n",
    "    # Modify the mutable argument (list)\n",
    "    print(f\"Original mutable argument (list): {mutable_arg}\")\n",
    "    mutable_arg.append(5)\n",
    "    print(f\"After modifying mutable argument: {mutable_arg}\")\n",
    "\n",
    "# Test the function\n",
    "number = 10  # Immutable (integer)\n",
    "my_list = [1, 2, 3]  # Mutable (list)\n",
    "\n",
    "print(\"Before calling function:\")\n",
    "print(f\"number: {number}\")\n",
    "print(f\"my_list: {my_list}\")\n",
    "\n",
    "modify_arguments(number, my_list)\n",
    "\n",
    "print(\"\\nAfter calling function:\")\n",
    "print(f\"number: {number}\")\n",
    "print(f\"my_list: {my_list}\")"
   ]
  },
  {
   "cell_type": "code",
   "execution_count": 4,
   "id": "a81340f3-ebeb-4e7b-a132-b2db88e3a2fc",
   "metadata": {},
   "outputs": [
    {
     "name": "stdin",
     "output_type": "stream",
     "text": [
      "Enter First Number to perform arithmatic operations:  1\n",
      "Enter Second Number to perform arithmatic operations:  5\n"
     ]
    },
    {
     "name": "stdout",
     "output_type": "stream",
     "text": [
      "1 + 5 = 6\n",
      "1 - 5 = -4\n",
      "1 X 5 = 5\n",
      "1 / 5 = 0.2\n",
      "1 % 5 = 1\n"
     ]
    }
   ],
   "source": [
    "#7. Write a program that performs basic arithmetic operations on two user-input numbers.\n",
    "num1=int(input(\"Enter First Number to perform arithmatic operations: \"));\n",
    "num2=int(input(\"Enter Second Number to perform arithmatic operations: \"));\n",
    "sum=num1+num2;\n",
    "substract=num1-num2;\n",
    "mult=num1*num2;\n",
    "div=num1/num2;\n",
    "modulo=num1%num2;\n",
    "print(f\"{num1} + {num2} = {sum}\");\n",
    "print(f\"{num1} - {num2} = {substract}\");\n",
    "print(f\"{num1} X {num2} = {mult}\");\n",
    "print(f\"{num1} / {num2} = {div}\");\n",
    "print(f\"{num1} % {num2} = {modulo}\");"
   ]
  },
  {
   "cell_type": "code",
   "execution_count": 6,
   "id": "a9d3fbac-ae0b-4308-90fc-e299d9f53a55",
   "metadata": {},
   "outputs": [
    {
     "name": "stdout",
     "output_type": "stream",
     "text": [
      "a (True) and b (True) is True\n",
      "a (True) and b (False) is False\n",
      "a (True) or b (False) is True\n",
      "a (False) or b (False) is False\n",
      "not a (True) is False\n",
      "not a (False) is True\n",
      "\n",
      "Is x (10) > y (5) AND x (10) > z (2)? True\n",
      "Is x (10) < y (5) OR y (5) > z (2)? True\n"
     ]
    }
   ],
   "source": [
    "#8. Write a program to demonstrate the use of logical operators.\n",
    "\n",
    "# Logical AND (and): Returns True if both statements are true\n",
    "a = True\n",
    "b = True\n",
    "print(f\"a ({a}) and b ({b}) is {a and b}\")  # Expected: True\n",
    "\n",
    "a = True\n",
    "b = False\n",
    "print(f\"a ({a}) and b ({b}) is {a and b}\")   # Expected: False\n",
    "\n",
    "# Logical OR (or): Returns True if one of the statements is true\n",
    "a = True\n",
    "b = False\n",
    "print(f\"a ({a}) or b ({b}) is {a or b}\")    # Expected: True\n",
    "\n",
    "a = False\n",
    "b = False\n",
    "print(f\"a ({a}) or b ({b}) is {a or b}\")   # Expected: False\n",
    "\n",
    "# Logical NOT (not): Reverses the result, returns False if the result is true\n",
    "a = True\n",
    "print(f\"not a ({a}) is {not a}\")            # Expected: False\n",
    "\n",
    "a = False\n",
    "print(f\"not a ({a}) is {not a}\")           # Expected: True\n",
    "\n",
    "# Combining operators\n",
    "x = 10\n",
    "y = 5\n",
    "z = 2\n",
    "print(f\"\\nIs x ({x}) > y ({y}) AND x ({x}) > z ({z})? {(x > y) and (x > z)}\") # True\n",
    "print(f\"Is x ({x}) < y ({y}) OR y ({y}) > z ({z})? {(x < y) or (y > z)}\")   # True\n"
   ]
  },
  {
   "cell_type": "code",
   "execution_count": 7,
   "id": "2d798e1b-ef07-489b-9d4c-0ff303c3ebbe",
   "metadata": {},
   "outputs": [
    {
     "name": "stdin",
     "output_type": "stream",
     "text": [
      "Please enter a number (e.g., 42):  22\n"
     ]
    },
    {
     "name": "stdout",
     "output_type": "stream",
     "text": [
      "Original input: '22', Type: <class 'str'>\n",
      "Converted to Integer: 22, Type: <class 'int'>\n",
      "Converted to Float: 22.0, Type: <class 'float'>\n"
     ]
    },
    {
     "name": "stdin",
     "output_type": "stream",
     "text": [
      "\n",
      "Please enter 'true' or 'false':  false\n"
     ]
    },
    {
     "name": "stdout",
     "output_type": "stream",
     "text": [
      "Original boolean input: 'false'\n",
      "Converted to Boolean: False, Type: <class 'bool'>\n"
     ]
    }
   ],
   "source": [
    "#9 Write a Python program to convert user input from string to integer, float, and boolean types.\n",
    "\n",
    "\n",
    "# Get input from the user (this will always be a string initially)\n",
    "user_input_str = input(\"Please enter a number (e.g., 42): \")\n",
    "print(f\"Original input: '{user_input_str}', Type: {type(user_input_str)}\")\n",
    "\n",
    "# Convert to Integer\n",
    "try:\n",
    "    user_int = int(user_input_str)\n",
    "    print(f\"Converted to Integer: {user_int}, Type: {type(user_int)}\")\n",
    "except ValueError:\n",
    "    print(f\"Could not convert '{user_input_str}' to an integer.\")\n",
    "\n",
    "# Convert to Float\n",
    "try:\n",
    "    user_float = float(user_input_str)\n",
    "    print(f\"Converted to Float: {user_float}, Type: {type(user_float)}\")\n",
    "except ValueError:\n",
    "    print(f\"Could not convert '{user_input_str}' to a float.\")\n",
    "\n",
    "# Convert to Boolean\n",
    "# Note: Any non-empty string is True. An empty string \"\" is False.\n",
    "# The string \"False\" is also considered True because it's not empty.\n",
    "# A common way to interpret user input for boolean is to check for specific words.\n",
    "user_bool_str = input(\"\\nPlease enter 'true' or 'false': \").lower()\n",
    "user_bool = user_bool_str == 'true'\n",
    "print(f\"Original boolean input: '{user_bool_str}'\")\n",
    "print(f\"Converted to Boolean: {user_bool}, Type: {type(user_bool)}\")\n"
   ]
  },
  {
   "cell_type": "code",
   "execution_count": 8,
   "id": "43096f11-3e53-486b-8023-3c55a1162e23",
   "metadata": {},
   "outputs": [
    {
     "name": "stdout",
     "output_type": "stream",
     "text": [
      "Original list: ['10', '25', '33', '47', '51']\n",
      "Type of first element: <class 'str'>\n",
      "\n",
      "List after casting to integers: [10, 25, 33, 47, 51]\n",
      "Type of first element now: <class 'int'>\n",
      "\n",
      "List using list comprehension: [10, 25, 33, 47, 51]\n",
      "Type of first element: <class 'int'>\n"
     ]
    }
   ],
   "source": [
    "#10. Write code to demonstrate type casting with list elements\n",
    "\n",
    "\n",
    "# A list of strings\n",
    "string_numbers = [\"10\", \"25\", \"33\", \"47\", \"51\"]\n",
    "print(f\"Original list: {string_numbers}\")\n",
    "print(f\"Type of first element: {type(string_numbers[0])}\\n\")\n",
    "\n",
    "# Create a new list to store the integer versions\n",
    "integer_numbers = []\n",
    "\n",
    "# Loop through each element in the original list\n",
    "for num_str in string_numbers:\n",
    "    # Cast the string element to an integer and append it\n",
    "    integer_numbers.append(int(num_str))\n",
    "\n",
    "print(f\"List after casting to integers: {integer_numbers}\")\n",
    "print(f\"Type of first element now: {type(integer_numbers[0])}\\n\")\n",
    "\n",
    "# Alternative using list comprehension (a more \"Pythonic\" way)\n",
    "integer_numbers_comp = [int(num) for num in string_numbers]\n",
    "print(f\"List using list comprehension: {integer_numbers_comp}\")\n",
    "print(f\"Type of first element: {type(integer_numbers_comp[0])}\")\n"
   ]
  },
  {
   "cell_type": "code",
   "execution_count": 9,
   "id": "f690a470-72be-4f9e-bcbd-2dae7d98eee6",
   "metadata": {},
   "outputs": [
    {
     "name": "stdin",
     "output_type": "stream",
     "text": [
      "Enter a number:  21\n"
     ]
    },
    {
     "name": "stdout",
     "output_type": "stream",
     "text": [
      "The number 21.0 is positive.\n"
     ]
    }
   ],
   "source": [
    "#11. Write a program that checks if a number is positive, negative, or zero.\n",
    "\n",
    "try:\n",
    "    # Get user input and convert it to a float to handle decimals\n",
    "    number = float(input(\"Enter a number: \"))\n",
    "\n",
    "    # Check the conditions using an if-elif-else block\n",
    "    if number > 0:\n",
    "        print(f\"The number {number} is positive.\")\n",
    "    elif number < 0:\n",
    "        print(f\"The number {number} is negative.\")\n",
    "    else:\n",
    "        print(\"The number is zero.\")\n",
    "\n",
    "except ValueError:\n",
    "    print(\"Invalid input. Please enter a valid number.\")\n"
   ]
  },
  {
   "cell_type": "code",
   "execution_count": 10,
   "id": "d0eade57-0948-49a7-a33b-076ce24fe5f0",
   "metadata": {},
   "outputs": [
    {
     "name": "stdout",
     "output_type": "stream",
     "text": [
      "Printing numbers from 1 to 10:\n",
      "1\n",
      "2\n",
      "3\n",
      "4\n",
      "5\n",
      "6\n",
      "7\n",
      "8\n",
      "9\n",
      "10\n"
     ]
    }
   ],
   "source": [
    "#12. Write a for loop to print numbers from 1 to 10.\n",
    "\n",
    "print(\"Printing numbers from 1 to 10:\")\n",
    "\n",
    "# The range() function generates numbers up to, but not including, the end value.\n",
    "# So, we use range(1, 11) to get numbers 1, 2, 3, 4, 5, 6, 7, 8, 9, 10.\n",
    "for i in range(1, 11):\n",
    "    print(i)\n"
   ]
  },
  {
   "cell_type": "code",
   "execution_count": 11,
   "id": "864fd2b9-b21d-4e02-91e8-f17d074c704f",
   "metadata": {},
   "outputs": [
    {
     "name": "stdout",
     "output_type": "stream",
     "text": [
      "The even numbers between 1 and 50 are: [2, 4, 6, 8, 10, 12, 14, 16, 18, 20, 22, 24, 26, 28, 30, 32, 34, 36, 38, 40, 42, 44, 46, 48, 50]\n",
      "The sum of all even numbers between 1 and 50 is: 650\n"
     ]
    }
   ],
   "source": [
    "#13. Write a Python program to find the sum of all even numbers between 1 and 50\n",
    "\n",
    "# Initialize a variable to store the sum\n",
    "total_sum = 0\n",
    "even_numbers_found = []\n",
    "\n",
    "# Loop through numbers from 1 to 50 (inclusive)\n",
    "for number in range(1, 51):\n",
    "    # Check if the number is even\n",
    "    # A number is even if it is perfectly divisible by 2 (remainder is 0)\n",
    "    if number % 2 == 0:\n",
    "        total_sum += number  # Add the even number to our total\n",
    "        even_numbers_found.append(number)\n",
    "\n",
    "print(f\"The even numbers between 1 and 50 are: {even_numbers_found}\")\n",
    "print(f\"The sum of all even numbers between 1 and 50 is: {total_sum}\")\n"
   ]
  },
  {
   "cell_type": "code",
   "execution_count": 12,
   "id": "d387aa86-a55b-427e-8e2b-1f570af827d5",
   "metadata": {},
   "outputs": [
    {
     "name": "stdin",
     "output_type": "stream",
     "text": [
      "Enter a string to reverse:  string\n"
     ]
    },
    {
     "name": "stdout",
     "output_type": "stream",
     "text": [
      "Original string: string\n",
      "Reversed string: gnirts\n"
     ]
    }
   ],
   "source": [
    "#14. Write a program to reverse a string using a while loop.\n",
    "# Get input from the user\n",
    "original_string = input(\"Enter a string to reverse: \")\n",
    "reversed_string = \"\"\n",
    "\n",
    "# Initialize an index counter to the last character of the string\n",
    "index = len(original_string) - 1\n",
    "\n",
    "# The loop continues as long as the index is 0 or greater\n",
    "while index >= 0:\n",
    "    # Add the character at the current index to the new string\n",
    "    reversed_string += original_string[index]\n",
    "    # Decrement the index to move to the previous character\n",
    "    index -= 1\n",
    "\n",
    "print(f\"Original string: {original_string}\")\n",
    "print(f\"Reversed string: {reversed_string}\")\n",
    "\n",
    "# Note: A simpler way to do this in Python is slicing:\n",
    "# print(f\"Reversed with slicing: {original_string[::-1]}\")\n"
   ]
  },
  {
   "cell_type": "code",
   "execution_count": 13,
   "id": "b3093117-d330-4039-93f6-4e07632bd2c0",
   "metadata": {},
   "outputs": [
    {
     "name": "stdin",
     "output_type": "stream",
     "text": [
      "Enter a non-negative number to calculate its factorial:  23\n"
     ]
    },
    {
     "name": "stdout",
     "output_type": "stream",
     "text": [
      "The factorial of 23 is 25852016738884976640000.\n"
     ]
    }
   ],
   "source": [
    "#15. Write a Python program to calculate the factorial of a number provided by the user using a while loop.\n",
    "\n",
    "try:\n",
    "    # Get a non-negative integer from the user\n",
    "    num = int(input(\"Enter a non-negative number to calculate its factorial: \"))\n",
    "\n",
    "    if num < 0:\n",
    "        print(\"Factorial is not defined for negative numbers.\")\n",
    "    elif num == 0:\n",
    "        # The factorial of 0 is 1 by definition\n",
    "        print(\"The factorial of 0 is 1.\")\n",
    "    else:\n",
    "        factorial = 1\n",
    "        # Create a counter that starts at the number and goes down\n",
    "        counter = num\n",
    "\n",
    "        while counter > 0:\n",
    "            factorial *= counter  # Multiply the current factorial by the counter\n",
    "            counter -= 1          # Decrement the counter\n",
    "\n",
    "        print(f\"The factorial of {num} is {factorial}.\")\n",
    "\n",
    "except ValueError:\n",
    "    print(\"Invalid input. Please enter a valid integer.\")\n"
   ]
  },
  {
   "cell_type": "code",
   "execution_count": null,
   "id": "daf89d3b-1dc6-4521-940e-89ab9dcd0a71",
   "metadata": {},
   "outputs": [],
   "source": []
  }
 ],
 "metadata": {
  "kernelspec": {
   "display_name": "Python 3 (ipykernel)",
   "language": "python",
   "name": "python3"
  },
  "language_info": {
   "codemirror_mode": {
    "name": "ipython",
    "version": 3
   },
   "file_extension": ".py",
   "mimetype": "text/x-python",
   "name": "python",
   "nbconvert_exporter": "python",
   "pygments_lexer": "ipython3",
   "version": "3.13.6"
  }
 },
 "nbformat": 4,
 "nbformat_minor": 5
}
